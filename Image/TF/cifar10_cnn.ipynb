{
 "cells": [
  {
   "cell_type": "code",
   "execution_count": 4,
   "metadata": {},
   "outputs": [],
   "source": [
    "import tensorflow as tf\n",
    "from tensorflow.python.keras.datasets import cifar10\n",
    "from tensorflow.python.keras.preprocessing.image import ImageDataGenerator\n",
    "from tensorflow.python.keras import layers, activations, optimizers, models,losses\n",
    "import os\n",
    "import matplotlib.pyplot as plt"
   ]
  },
  {
   "cell_type": "markdown",
   "metadata": {},
   "source": [
    "Model Parameters"
   ]
  },
  {
   "cell_type": "code",
   "execution_count": 2,
   "metadata": {},
   "outputs": [],
   "source": [
    "batch_size = 32\n",
    "num_classes = 10\n",
    "epochs = 100\n",
    "data_augmentation = True\n",
    "num_predictions = 20\n",
    "save_dir = os.path.join(os.getcwd(), \"saved_models\")\n",
    "model_name = 'keras_cifar10_trained_model.h5'"
   ]
  },
  {
   "cell_type": "markdown",
   "metadata": {},
   "source": [
    "# Load data into memory"
   ]
  },
  {
   "cell_type": "code",
   "execution_count": 3,
   "metadata": {},
   "outputs": [
    {
     "name": "stdout",
     "output_type": "stream",
     "text": [
      "x_train shape: (50000, 32, 32, 3)\n50000 train samples\n10000 test samples\n"
     ]
    }
   ],
   "source": [
    "(x_train, y_train), (x_test, y_test) = cifar10.load_data()\n",
    "print('x_train shape:', x_train.shape)\n",
    "print(x_train.shape[0], 'train samples')\n",
    "print(x_test.shape[0], 'test samples')\n",
    "\n",
    "# Convert class vectors to binary class matrices.\n",
    "y_train = tf.keras.utils.to_categorical(y_train, num_classes)\n",
    "y_test = tf.keras.utils.to_categorical(y_test, num_classes)\n",
    "\n",
    "x_train = x_train.astype('float32')\n",
    "x_test = x_test.astype('float32')\n",
    "x_train /= 255\n",
    "x_test /= 255"
   ]
  },
  {
   "cell_type": "markdown",
   "metadata": {},
   "source": [
    "Define Model"
   ]
  },
  {
   "cell_type": "code",
   "execution_count": 6,
   "metadata": {},
   "outputs": [],
   "source": [
    "def model_fn(features, labels, mode):\n",
    "    inputs = tf.convert_to_tensor(features[\"x\"])\n",
    "\n",
    "    #Convolution Layer-1 \n",
    "    conv1 = tf.layers.conv2d(\n",
    "        inputs=inputs,\n",
    "        filters=32,\n",
    "        kernel_size=[3, 3],\n",
    "        activation=tf.nn.relu,\n",
    "        padding=\"same\",\n",
    "        name=\"Conv-1.1\"\n",
    "    )\n",
    "    conv1 = tf.layers.conv2d(\n",
    "        inputs=conv1,\n",
    "        filters=32,\n",
    "        kernel_size=[3, 3],\n",
    "        activation=tf.nn.relu,\n",
    "        padding=\"same\",\n",
    "        name=\"Conv-1.2\"\n",
    "    )\n",
    "    pool1 = tf.layers.max_pooling2d(conv1, pool_size=[2, 2], padding=\"same\", strides=1,\n",
    "                                    name=\"Max_Pool-1\")\n",
    "    dr1 = tf.layers.dropout(pool1, rate=0.25, name=\"drop-1\")\n",
    "\n",
    "    #Convolution Layer-2 \n",
    "    conv2 = tf.layers.conv2d(\n",
    "        inputs=dr1,\n",
    "        filters=64,\n",
    "        kernel_size=[3, 3],\n",
    "        activation=tf.nn.relu,\n",
    "        padding=\"same\",\n",
    "        name=\"Conv-2.1\"\n",
    "    )\n",
    "    conv2 = tf.layers.conv2d(\n",
    "        inputs=conv2,\n",
    "        filters=64,\n",
    "        kernel_size=[3, 3],\n",
    "        activation=tf.nn.relu,\n",
    "        padding=\"same\",\n",
    "        name=\"Conv-2.2\"\n",
    "    )\n",
    "    pool2 = tf.layers.max_pooling2d(conv2, pool_size=[2, 2], padding=\"same\", strides=1,\n",
    "                                    name=\"Max_Pool-2\")\n",
    "    dr2 = tf.layers.dropout(pool2, rate=0.25, name=\"drop-2\")\n",
    "\n",
    "    pool2flat = tf.layers.flatten(dr2, name=\"flattern\")\n",
    "    dense = tf.layers.dense(inputs=pool2flat, units=512, activation=tf.nn.relu)\n",
    "    dr_dense = tf.layers.dropout(dense, rate=0.25, name=\"drop-3\")\n",
    "\n",
    "    logits = tf.layers.dense(inputs=dr_dense, units=num_classes, activation=tf.nn.softmax,\n",
    "                             name=\"Softmax Tensor\")\n",
    "\n",
    "    predictions = {\n",
    "        \"classes\": tf.argmax(logits, axis=1),\n",
    "        \"probabilities\": logits\n",
    "    }\n",
    "\n",
    "    if mode == tf.estimator.ModeKeys.PREDICT:\n",
    "        return tf.estimator.EstimatorSpec(mode=mode, predictions=predictions)\n",
    "\n",
    "    loss = tf.losses.softmax_cross_entropy(logits=logits, onehot_labels=labels)\n",
    "\n",
    "    if mode == tf.estimator.ModeKeys.TRAIN:\n",
    "        optimizer = tf.train.RMSPropOptimizer(learning_rate=0.0001)\n",
    "        train_op = optimizer.minimize(loss=loss, global_step=tf.train.get_global_step())\n",
    "        return tf.estimator.EstimatorSpec(mode=mode, loss=loss, train_op=train_op)\n",
    "\n",
    "    eval_metric = {\n",
    "        \"accuracy\": tf.metrics.accuracy(labels=labels, predictions=predictions[\"classes\"])\n",
    "    }\n",
    "    return tf.estimator.EstimatorSpec(mode=mode, eval_metric_ops=eval_metric, loss=loss)\n"
   ]
  }
 ],
 "metadata": {
  "kernelspec": {
   "display_name": "Python 3",
   "language": "python",
   "name": "python3"
  },
  "language_info": {
   "codemirror_mode": {
    "name": "ipython",
    "version": 3
   },
   "file_extension": ".py",
   "mimetype": "text/x-python",
   "name": "python",
   "nbconvert_exporter": "python",
   "pygments_lexer": "ipython3",
   "version": "3.6.5"
  }
 },
 "nbformat": 4,
 "nbformat_minor": 1
}
